{
 "cells": [
  {
   "cell_type": "code",
   "execution_count": 1,
   "metadata": {},
   "outputs": [],
   "source": [
    "import numpy as np\n",
    "from nltk.corpus import brown"
   ]
  },
  {
   "cell_type": "code",
   "execution_count": 4,
   "metadata": {},
   "outputs": [
    {
     "name": "stderr",
     "output_type": "stream",
     "text": [
      "[nltk_data] Downloading package brown to\n",
      "[nltk_data]     C:\\Users\\User\\AppData\\Roaming\\nltk_data...\n",
      "[nltk_data]   Unzipping corpora\\brown.zip.\n"
     ]
    },
    {
     "data": {
      "text/plain": [
       "True"
      ]
     },
     "execution_count": 4,
     "metadata": {},
     "output_type": "execute_result"
    }
   ],
   "source": [
    "import nltk\n",
    "nltk.download('brown')"
   ]
  },
  {
   "cell_type": "code",
   "execution_count": 5,
   "metadata": {},
   "outputs": [],
   "source": [
    "words = list(brown.words())"
   ]
  },
  {
   "cell_type": "code",
   "execution_count": 6,
   "metadata": {},
   "outputs": [
    {
     "data": {
      "text/plain": [
       "1161192"
      ]
     },
     "execution_count": 6,
     "metadata": {},
     "output_type": "execute_result"
    }
   ],
   "source": [
    "len(words)"
   ]
  },
  {
   "cell_type": "code",
   "execution_count": 7,
   "metadata": {},
   "outputs": [],
   "source": [
    "start_sentence = 'I am planning to'"
   ]
  },
  {
   "cell_type": "code",
   "execution_count": 13,
   "metadata": {},
   "outputs": [],
   "source": [
    "class NGrams:\n",
    "    \n",
    "    def __init__(self, words, sentence):\n",
    "        self.words = words\n",
    "        self.sentence = sentence\n",
    "        self.tokens = sentence.split()\n",
    "        \n",
    "    def get_tokens(self):\n",
    "        return self.tokens\n",
    "    \n",
    "    def add_tokens(self, value):\n",
    "        temp = self.tokens\n",
    "        temp.append(value)\n",
    "        self.tokens = temp\n",
    "        return self.tokens\n",
    "    \n",
    "    def unigram_model(self):\n",
    "        self.next_words = np.random.choice(words, size=3)\n",
    "        return self.next_words\n",
    "    \n",
    "    def bigram_model(self):\n",
    "        next_words = []\n",
    "        for i in range(len(words)-1):\n",
    "            if words[i] == self.tokens[-1]:\n",
    "                next_words.append(words[i+1])\n",
    "        self.next_words = next_words\n",
    "        return self.next_words\n",
    "    \n",
    "    def trigram_model(self):\n",
    "        next_words = []\n",
    "        for i in range(len(words)-2):\n",
    "            if words[i] == self.tokens[-2] :\n",
    "                if words[i+1] == self.tokens[-1]:\n",
    "                    next_words.append(words[i+2])\n",
    "        self.next_words = next_words\n",
    "        return self.next_words\n",
    "    \n",
    "    def fourgram_model(self):\n",
    "        next_words = []\n",
    "        for i in range(len(words)-3):\n",
    "            if words[i] == self.tokens[-3] :\n",
    "                if words[i+1] == self.tokens[-2]:\n",
    "                    if words[i+2] == self.tokens[-1]:\n",
    "                        next_words.append(words[i+3])\n",
    "        self.next_words = next_words\n",
    "        return self.next_words\n",
    "    \n",
    "    def get_top_3_next_words(self,next_words):\n",
    "        next_words_dict = dict()\n",
    "        for word in next_words:\n",
    "            if not word in next_words_dict.keys():\n",
    "                next_words_dict[word] = 1\n",
    "            else:\n",
    "                next_words_dict[word] += 1\n",
    "\n",
    "        for i,j in next_words_dict.items():\n",
    "            next_words_dict[i] = np.round(j/len(next_words),2)\n",
    "\n",
    "        return sorted(next_words_dict.items(), key = lambda k:(k[1], k[0]), reverse=True)[:3]\n",
    "    \n",
    "    def model_selection(self):\n",
    "        if len(self.fourgram_model()) > 0 :\n",
    "            next_words = self.fourgram_model()\n",
    "            top_words = self.get_top_3_next_words(next_words)\n",
    "            print(\"fourgram-model\")\n",
    "            return top_words\n",
    "        elif len(self.trigram_model()) > 0 :\n",
    "            next_words = self.trigram_model()\n",
    "            top_words = self.get_top_3_next_words(next_words)\n",
    "            print(\"trigram-model\")\n",
    "            return top_words\n",
    "        elif len(self.bigram_model()) > 0 :\n",
    "            next_words = self.bigram_model()\n",
    "            top_words = self.get_top_3_next_words(next_words)\n",
    "            print(\"bigram-model\")\n",
    "            return top_words\n",
    "        else:            \n",
    "            top_words = self.unigram_model()\n",
    "            print(\"unigram-model\")\n",
    "            return top_words\n",
    "            \n",
    "        \n",
    "    "
   ]
  },
  {
   "cell_type": "code",
   "execution_count": 15,
   "metadata": {},
   "outputs": [],
   "source": [
    "model = NGrams(words=words, sentence=start_sentence)"
   ]
  },
  {
   "cell_type": "code",
   "execution_count": 16,
   "metadata": {},
   "outputs": [
    {
     "name": "stdout",
     "output_type": "stream",
     "text": [
      "trigram-model\n",
      "[('use', 0.11), ('tour', 0.11), ('shelter', 0.11)]\n",
      "tour\n",
      "fourgram-model\n",
      "[('Europe', 1.0)]\n",
      "Europe\n",
      "fourgram-model\n",
      "[('for', 1.0)]\n",
      "for\n",
      "fourgram-model\n",
      "[('longer', 1.0)]\n",
      "longer\n",
      "fourgram-model\n",
      "[('than', 1.0)]\n",
      "than \n",
      "unigram-model\n",
      "['.' 'ran' 'and']\n",
      ".\n",
      "bigram-model\n",
      "[('The', 0.12), ('``', 0.07), ('He', 0.05)]\n",
      "The\n",
      "trigram-model\n",
      "[('two', 0.01), ('second', 0.01), ('only', 0.01)]\n",
      "only\n",
      "fourgram-model\n",
      "[('way', 0.1), ('thing', 0.06), ('other', 0.06)]\n",
      "way\n",
      "fourgram-model\n",
      "[('to', 0.5), ('that', 0.17), ('out', 0.17)]\n",
      "to \n",
      "unigram-model\n",
      "['work' ',' 'for']\n",
      "explore\n",
      "bigram-model\n",
      "[('the', 0.25), ('their', 0.08), ('some', 0.08)]\n",
      "some\n",
      "trigram-model\n",
      "[('of', 1.0)]\n",
      "of\n",
      "fourgram-model\n",
      "[('the', 1.0)]\n",
      "the\n",
      "fourgram-model\n",
      "[('more', 0.05), ('most', 0.04), ('best', 0.04)]\n",
      "best\n",
      "fourgram-model\n",
      "[('white', 0.05), ('ways', 0.05), ('terrains', 0.05)]\n",
      "terrains\n",
      "fourgram-model\n",
      "[('in', 1.0)]\n",
      "in\n",
      "fourgram-model\n",
      "[('the', 1.0)]\n",
      "the\n",
      "fourgram-model\n",
      "[('East', 1.0)]\n",
      "East\n",
      "fourgram-model\n",
      "[(',', 0.43), ('is', 0.14), ('Sixties', 0.14)]\n",
      "is\n",
      "fourgram-model\n",
      "[('so', 0.5), ('ably', 0.5)]\n",
      "ably\n",
      "fourgram-model\n",
      "[('led', 1.0)]\n",
      "led\n",
      "fourgram-model\n",
      "[('by', 1.0)]\n",
      "by\n",
      "fourgram-model\n",
      "[('such', 1.0)]\n",
      "such\n",
      "fourgram-model\n",
      "[('stalwart', 1.0)]\n",
      "stalwart\n",
      "fourgram-model\n",
      "[('heroes', 1.0)]\n",
      "heroes\n",
      "fourgram-model\n",
      "[('as', 1.0)]\n",
      "as\n",
      "fourgram-model\n",
      "[('Khrushchev', 1.0)]\n",
      "khurschev\n",
      "unigram-model\n",
      "['are' \"tailin'\" 'so']\n",
      "are\n",
      "bigram-model\n",
      "[('not', 0.05), ('the', 0.04), ('in', 0.02)]\n",
      "in\n"
     ]
    }
   ],
   "source": [
    "for i in range(30):\n",
    "    values = model.model_selection()\n",
    "    print(values)\n",
    "    value = input()\n",
    "    model.add_tokens(value)"
   ]
  },
  {
   "cell_type": "code",
   "execution_count": 17,
   "metadata": {},
   "outputs": [
    {
     "name": "stdout",
     "output_type": "stream",
     "text": [
      "['I', 'am', 'planning', 'to', 'tour', 'Europe', 'for', 'longer', 'than ', '.', 'The', 'only', 'way', 'to ', 'explore', 'some', 'of', 'the', 'best', 'terrains', 'in', 'the', 'East', 'is', 'ably', 'led', 'by', 'such', 'stalwart', 'heroes', 'as', 'khurschev', 'are', 'in']\n"
     ]
    }
   ],
   "source": [
    "print(model.get_tokens())"
   ]
  },
  {
   "cell_type": "code",
   "execution_count": 18,
   "metadata": {},
   "outputs": [
    {
     "name": "stdout",
     "output_type": "stream",
     "text": [
      "I am planning to tour Europe for longer than  . The only way to  explore some of the best terrains in the East is ably led by such stalwart heroes as khurschev are in\n"
     ]
    }
   ],
   "source": [
    "print(\" \".join(model.get_tokens()))"
   ]
  },
  {
   "cell_type": "code",
   "execution_count": null,
   "metadata": {},
   "outputs": [],
   "source": []
  }
 ],
 "metadata": {
  "kernelspec": {
   "display_name": "Python 3",
   "language": "python",
   "name": "python3"
  },
  "language_info": {
   "codemirror_mode": {
    "name": "ipython",
    "version": 3
   },
   "file_extension": ".py",
   "mimetype": "text/x-python",
   "name": "python",
   "nbconvert_exporter": "python",
   "pygments_lexer": "ipython3",
   "version": "3.8.5"
  }
 },
 "nbformat": 4,
 "nbformat_minor": 4
}
